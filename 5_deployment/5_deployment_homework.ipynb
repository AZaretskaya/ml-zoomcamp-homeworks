{
 "cells": [
  {
   "cell_type": "markdown",
   "id": "ebe0aef7",
   "metadata": {},
   "source": [
    "# 5. Deploying Machine Learning Models\n",
    "## Homework"
   ]
  },
  {
   "cell_type": "markdown",
   "id": "648a7468",
   "metadata": {},
   "source": [
    "In this homework, we will use Credit Card Data from [the previous homework](https://github.com/alexeygrigorev/mlbookcamp-code/blob/master/course-zoomcamp/cohorts/2022/04-evaluation/homework.md)."
   ]
  },
  {
   "cell_type": "markdown",
   "id": "3ee7691d",
   "metadata": {},
   "source": [
    "## Question 1\n",
    "\n",
    "* Install Pipenv\n",
    "* What's the version of pipenv you installed?\n",
    "* Use `--version` to find out"
   ]
  },
  {
   "cell_type": "markdown",
   "id": "fc9b48e7",
   "metadata": {},
   "source": [
    "pipenv --version\n",
    "\n",
    "\n",
    "pipenv, version 2022.10.4"
   ]
  },
  {
   "cell_type": "markdown",
   "id": "aac3ed8f",
   "metadata": {},
   "source": [
    "**Answer 1.** The version of installed pipenv is **2022.10.4**."
   ]
  },
  {
   "cell_type": "markdown",
   "id": "e2f91bf0",
   "metadata": {},
   "source": [
    "## Question 2\n",
    "\n",
    "* Use Pipenv to install Scikit-Learn version 1.0.2\n",
    "* What's the first hash for scikit-learn you get in Pipfile.lock?\n",
    "\n",
    "Note: you should create an empty folder for homework\n",
    "and do it there. "
   ]
  },
  {
   "cell_type": "markdown",
   "id": "7625f829",
   "metadata": {},
   "source": [
    "pipenv install numpy scikit-learn==1.0.2\n",
    "\n",
    "To activate this project's virtualenv, run pipenv shell.\n",
    "\n",
    "Alternatively, run a command inside the virtualenv with pipenv run."
   ]
  },
  {
   "cell_type": "markdown",
   "id": "c080476b",
   "metadata": {},
   "source": [
    "**Answer 2.** The first hash for scikit-learn in Pipfile.lock is **sha256:08ef968f6b72033c16c479c966bf37ccd49b06ea91b765e1cc27afefe723920b**"
   ]
  },
  {
   "cell_type": "markdown",
   "id": "612f6e86",
   "metadata": {},
   "source": [
    "## Models\n",
    "\n",
    "We've prepared a dictionary vectorizer and a model.\n",
    "\n",
    "They were trained (roughly) using this code:\n",
    "\n",
    "```python\n",
    "features = ['reports', 'share', 'expenditure', 'owner']\n",
    "dicts = df[features].to_dict(orient='records')\n",
    "\n",
    "dv = DictVectorizer(sparse=False)\n",
    "X = dv.fit_transform(dicts)\n",
    "\n",
    "model = LogisticRegression(solver='liblinear').fit(X, y)\n",
    "```\n",
    "\n",
    "> **Note**: You don't need to train the model. This code is just for your reference.\n",
    "\n",
    "And then saved with Pickle. Download them:\n",
    "\n",
    "* [DictVectorizer](https://github.com/alexeygrigorev/mlbookcamp-code/blob/master/course-zoomcamp/cohorts/2022/05-deployment/homework/dv.bin?raw=true)\n",
    "* [LogisticRegression](https://github.com/alexeygrigorev/mlbookcamp-code/blob/master/course-zoomcamp/cohorts/2022/05-deployment/homework/model1.bin?raw=true)"
   ]
  },
  {
   "cell_type": "markdown",
   "id": "f03a5cbf",
   "metadata": {},
   "source": [
    "## Question 3\n",
    "\n",
    "Let's use these models!\n",
    "\n",
    "* Write a script for loading these models with pickle\n",
    "* Score this client:\n",
    "\n",
    "```json\n",
    "{\"reports\": 0, \"share\": 0.001694, \"expenditure\": 0.12, \"owner\": \"yes\"}\n",
    "```\n",
    "\n",
    "What's the probability that this client will get a credit card? \n",
    "\n",
    "* 0.162\n",
    "* 0.391\n",
    "* 0.601\n",
    "* 0.993\n",
    "\n",
    "If you're getting errors when unpickling the files, check their checksum:\n",
    "\n",
    "```bash\n",
    "$ md5sum model1.bin dv.bin\n",
    "3f57f3ebfdf57a9e1368dcd0f28a4a14  model1.bin\n",
    "6b7cded86a52af7e81859647fa3a5c2e  dv.bin\n",
    "```"
   ]
  },
  {
   "cell_type": "markdown",
   "id": "13327305",
   "metadata": {},
   "source": [
    "**Answer 3.** The probability that the client ```{\"reports\": 0, \"share\": 0.001694, \"expenditure\": 0.12, \"owner\": \"yes\"}``` will get a credit card is **0.162**."
   ]
  },
  {
   "cell_type": "markdown",
   "id": "bcce51e1",
   "metadata": {},
   "source": [
    "## Question 4\n",
    "\n",
    "Now let's serve this model as a web service\n",
    "\n",
    "* Install Flask and gunicorn (or waitress, if you're on Windows)\n",
    "* Write Flask code for serving the model\n",
    "* Now score this client using `requests`:\n",
    "\n",
    "```python\n",
    "url = \"YOUR_URL\"\n",
    "client = {\"reports\": 0, \"share\": 0.245, \"expenditure\": 3.438, \"owner\": \"yes\"}\n",
    "requests.post(url, json=client).json()\n",
    "```\n",
    "\n",
    "What's the probability that this client will get a credit card?\n",
    "\n",
    "* 0.274\n",
    "* 0.484\n",
    "* 0.698\n",
    "* 0.928"
   ]
  },
  {
   "cell_type": "markdown",
   "id": "0531aafa",
   "metadata": {},
   "source": [
    "pipenv install Flask gunicorn"
   ]
  },
  {
   "cell_type": "code",
   "execution_count": 13,
   "id": "840b99a4",
   "metadata": {},
   "outputs": [],
   "source": [
    "import requests"
   ]
  },
  {
   "cell_type": "code",
   "execution_count": 7,
   "id": "dc9370d6",
   "metadata": {},
   "outputs": [],
   "source": [
    "url = 'http://localhost:9696/predict'"
   ]
  },
  {
   "cell_type": "code",
   "execution_count": 8,
   "id": "200b1c8c",
   "metadata": {},
   "outputs": [],
   "source": [
    "client_id = 'q4'\n",
    "client = {\"reports\": 0, \"share\": 0.245, \"expenditure\": 3.438, \"owner\": \"yes\"}"
   ]
  },
  {
   "cell_type": "code",
   "execution_count": 17,
   "id": "eeab9ba6",
   "metadata": {},
   "outputs": [
    {
     "data": {
      "text/plain": [
       "{'give_card': True, 'give_card_probability': 0.928}"
      ]
     },
     "execution_count": 17,
     "metadata": {},
     "output_type": "execute_result"
    }
   ],
   "source": [
    "response = requests.post(url, json=client).json()\n",
    "response "
   ]
  },
  {
   "cell_type": "code",
   "execution_count": 18,
   "id": "98efae78",
   "metadata": {},
   "outputs": [
    {
     "name": "stdout",
     "output_type": "stream",
     "text": [
      "The client q4 will get a credit card.\n"
     ]
    }
   ],
   "source": [
    "if response['give_card']:\n",
    "    print(f'The client {client_id} will get a credit card.')\n",
    "else:\n",
    "    print(f'The client {client_id} will not get a credit card.')"
   ]
  },
  {
   "cell_type": "markdown",
   "id": "c1b8fa70",
   "metadata": {},
   "source": [
    "**Answer 4.** The probability that the client ```{\"reports\": 0, \"share\": 0.245, \"expenditure\": 3.438, \"owner\": \"yes\"}``` will get a credit card is **0.928**."
   ]
  },
  {
   "cell_type": "code",
   "execution_count": null,
   "id": "2d3324a7",
   "metadata": {},
   "outputs": [],
   "source": []
  }
 ],
 "metadata": {
  "kernelspec": {
   "display_name": "Python 3 (ipykernel)",
   "language": "python",
   "name": "python3"
  },
  "language_info": {
   "codemirror_mode": {
    "name": "ipython",
    "version": 3
   },
   "file_extension": ".py",
   "mimetype": "text/x-python",
   "name": "python",
   "nbconvert_exporter": "python",
   "pygments_lexer": "ipython3",
   "version": "3.9.8"
  }
 },
 "nbformat": 4,
 "nbformat_minor": 5
}
