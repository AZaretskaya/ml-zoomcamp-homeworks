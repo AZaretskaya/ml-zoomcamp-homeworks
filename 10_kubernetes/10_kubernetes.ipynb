{
 "cells": [
  {
   "cell_type": "markdown",
   "id": "f889af48",
   "metadata": {},
   "source": [
    "# 10. Kubernetes and TensorFlow Serving\n",
    "\n",
    "## Homework"
   ]
  },
  {
   "cell_type": "markdown",
   "id": "7bdf3097",
   "metadata": {},
   "source": [
    "In this homework, we'll deploy Credit Card prediction model from the homework 5.\n",
    "We already have a docker image for this model - we'll use it for \n",
    "deploying the model to Kubernetes.\n",
    "\n",
    "\n",
    "## Bulding the image\n",
    "\n",
    "Clone the course repo if you haven't:\n",
    "\n",
    "```\n",
    "git clone https://github.com/alexeygrigorev/mlbookcamp-code.git\n",
    "```\n",
    "\n",
    "Go to the `course-zoomcamp/cohorts/2022/05-deployment/homework` folder and \n",
    "execute the following:\n",
    "\n",
    "\n",
    "```bash\n",
    "docker build -t zoomcamp-model:v001 .\n",
    "```"
   ]
  },
  {
   "cell_type": "markdown",
   "id": "7adcdc40",
   "metadata": {},
   "source": [
    "```bash\n",
    "git clone https://github.com/alexeygrigorev/mlbookcamp-code.git\n",
    "\n",
    "cd mlbookcamp-code/course-zoomcamp/cohorts/2022/05-deployment/homework\n",
    "\n",
    "docker build -t zoomcamp-model:v001 .\n",
    "\n",
    "```"
   ]
  },
  {
   "cell_type": "markdown",
   "id": "ce31157a",
   "metadata": {},
   "source": [
    "## Question 1\n",
    "\n",
    "Run it to test that it's working locally:\n",
    "\n",
    "```bash\n",
    "docker run -it --rm -p 9696:9696 zoomcamp-model:v001\n",
    "```\n",
    "\n",
    "And in another terminal, execute `q6_test.py` file:\n",
    "\n",
    "```bash\n",
    "python q6_test.py\n",
    "```\n",
    "\n",
    "You should see this:\n",
    "\n",
    "```\n",
    "{'get_card': True, 'get_card_probability': <value>}\n",
    "```\n",
    "\n",
    "Here `<value>` is the probability of getting a credit card. You need to choose the right one.\n",
    "\n",
    "* 0.289\n",
    "* 0.502\n",
    "* 0.769\n",
    "* 0.972"
   ]
  },
  {
   "cell_type": "markdown",
   "id": "7c527998",
   "metadata": {},
   "source": [
    "**Answer 1:** The probability of getting a credit card is **0.7692649226628628**."
   ]
  },
  {
   "cell_type": "markdown",
   "id": "74fb31dc",
   "metadata": {},
   "source": [
    "Now you can stop the container running in Docker. (press ctrl + C)"
   ]
  },
  {
   "cell_type": "markdown",
   "id": "8009c307",
   "metadata": {},
   "source": [
    "## Installing `kubectl` and `kind`\n",
    "\n",
    "You need to install:\n",
    "\n",
    "* `kubectl` - https://kubernetes.io/docs/tasks/tools/ (you might already have it - check before installing)\n",
    "* `kind` - https://kind.sigs.k8s.io/docs/user/quick-start/"
   ]
  },
  {
   "cell_type": "code",
   "execution_count": 2,
   "id": "8e6f98a4",
   "metadata": {},
   "outputs": [
    {
     "name": "stdout",
     "output_type": "stream",
     "text": [
      "  % Total    % Received % Xferd  Average Speed   Time    Time     Time  Current\n",
      "                                 Dload  Upload   Total   Spent    Left  Speed\n",
      "100   138  100   138    0     0    614      0 --:--:-- --:--:-- --:--:--   613\n",
      "100 47.8M  100 47.8M    0     0   616k      0  0:01:19  0:01:19 --:--:--  776k21.4M    0     0   561k      0  0:01:27  0:00:39  0:00:48  757k\n"
     ]
    }
   ],
   "source": [
    "!   curl -LO \"https://dl.k8s.io/release/$(curl -L -s https://dl.k8s.io/release/stable.txt)/bin/darwin/amd64/kubectl\""
   ]
  },
  {
   "cell_type": "code",
   "execution_count": 3,
   "id": "9d614994",
   "metadata": {},
   "outputs": [],
   "source": [
    "! chmod +x ./kubectl"
   ]
  },
  {
   "cell_type": "markdown",
   "id": "f38d8498",
   "metadata": {},
   "source": [
    "## Question 2\n",
    "\n",
    "What's the version of `kind` that you have? \n",
    "\n",
    "Use `kind --version` to find out."
   ]
  },
  {
   "cell_type": "code",
   "execution_count": 1,
   "id": "3cc6b301",
   "metadata": {},
   "outputs": [
    {
     "name": "stdout",
     "output_type": "stream",
     "text": [
      "kind version 0.17.0\r\n"
     ]
    }
   ],
   "source": [
    "! kind --version"
   ]
  },
  {
   "cell_type": "markdown",
   "id": "f10f1f2b",
   "metadata": {},
   "source": [
    "**Answer 2:** The version of kind that we have is **0.17.0**."
   ]
  },
  {
   "cell_type": "markdown",
   "id": "4a199f55",
   "metadata": {},
   "source": [
    "# Creating a cluster\n",
    "\n",
    "Now let's create a cluster with `kind`:\n",
    "\n",
    "```bash\n",
    "kind create cluster\n",
    "```\n",
    "\n",
    "And check with `kubectl` that it was successfully created:\n",
    "\n",
    "```bash\n",
    "kubectl cluster-info\n",
    "```\n",
    "\n",
    "\n",
    "## Question 3\n",
    "\n",
    "What's the smallest deployable computing unit that we can create and manage \n",
    "in Kubernetes (`kind` in our case)?\n",
    "\n",
    "* Node\n",
    "* Pod\n",
    "* Deployment\n",
    "* Service"
   ]
  },
  {
   "cell_type": "markdown",
   "id": "3e4c379e",
   "metadata": {},
   "source": [
    "**Answer 3:** The smallest deployable computing unit that we can create and manage in Kubernetes is **Pod**."
   ]
  },
  {
   "cell_type": "markdown",
   "id": "f239a358",
   "metadata": {},
   "source": [
    "## Question 4\n",
    "\n",
    "Now let's test if everything works. Use `kubectl` to get the list of running services.\n",
    "\n",
    "What's the `Type` of the service that is already running there?\n",
    "\n",
    "* ClusterIP\n",
    "* NodePort\n",
    "* LoadBalancer\n",
    "* ExternalName"
   ]
  },
  {
   "cell_type": "markdown",
   "id": "a65175c5",
   "metadata": {},
   "source": [
    "**Answer 4:** The `Type` of the service that is already running is **ClusterIP**."
   ]
  },
  {
   "cell_type": "markdown",
   "id": "c8bc8cab",
   "metadata": {},
   "source": [
    "## Question 5\n",
    "\n",
    "To be able to use the docker image we previously created (`zoomcamp-model:v001`),\n",
    "we need to register it with `kind`.\n",
    "\n",
    "What's the command we need to run for that?\n",
    "\n",
    "* `kind create cluster`\n",
    "* `kind build node-image`\n",
    "* `kind load docker-image`\n",
    "* `kubectl apply`"
   ]
  },
  {
   "cell_type": "markdown",
   "id": "aa5f19bd",
   "metadata": {},
   "source": [
    "**Answer 5:** The command we need to run the docker image we previously created is `kind load docker-image`."
   ]
  },
  {
   "cell_type": "markdown",
   "id": "7fe9668f",
   "metadata": {},
   "source": [
    "## Question 6\n",
    "\n",
    "Now let's create a deployment config (e.g. `deployment.yaml`):\n",
    "\n",
    "```yaml\n",
    "apiVersion: apps/v1\n",
    "kind: Deployment\n",
    "metadata:\n",
    "  name: credit-card\n",
    "spec:\n",
    "  selector:\n",
    "    matchLabels:\n",
    "      app: credit-card\n",
    "  replicas: 1\n",
    "  template:\n",
    "    metadata:\n",
    "      labels:\n",
    "        app: credit-card\n",
    "    spec:\n",
    "      containers:\n",
    "      - name: credit-card\n",
    "        image: <Image>\n",
    "        resources:\n",
    "          requests:\n",
    "            memory: \"64Mi\"\n",
    "            cpu: \"100m\"            \n",
    "          limits:\n",
    "            memory: <Memory>\n",
    "            cpu: <CPU>\n",
    "        ports:\n",
    "        - containerPort: <Port>\n",
    "```\n",
    "\n",
    "Replace `<Image>`, `<Memory>`, `<CPU>`, `<Port>` with the correct values.\n",
    "\n",
    "What is the value for `<Port>`?"
   ]
  },
  {
   "cell_type": "markdown",
   "id": "eb223cd8",
   "metadata": {},
   "source": [
    "Look in [ML Zoomcamp 10.7 - Deploying TensorFlow Models to Kubernetes](https://www.youtube.com/watch?v=6vHLMdnjO2w&list=PL3MmuxUbc_hIhxl5Ji8t4O6lPAOpHaCLR&index=105) at 2:22 minute.\n",
    "\n",
    "`<Image>` = zoomcamp-model:v001,  `<Memory>` = \"128Mi\",  `<CPU>` = \"500m\", `<Port>` = 9696."
   ]
  },
  {
   "cell_type": "markdown",
   "id": "e1078b9e",
   "metadata": {},
   "source": [
    "**Answer 6:** The value for `<Port>` is `9696`."
   ]
  },
  {
   "cell_type": "markdown",
   "id": "ae5b8fdd",
   "metadata": {},
   "source": [
    "## Question 7\n",
    "\n",
    "Let's create a service for this deployment (`service.yaml`):\n",
    "\n",
    "```yaml\n",
    "apiVersion: v1\n",
    "kind: Service\n",
    "metadata:\n",
    "  name: <Service name>\n",
    "spec:\n",
    "  type: LoadBalancer\n",
    "  selector:\n",
    "    app: <???>\n",
    "  ports:\n",
    "  - port: 80\n",
    "    targetPort: <PORT>\n",
    "```\n",
    "\n",
    "Fill it in. What do we need to write instead of `<???>`?"
   ]
  },
  {
   "cell_type": "markdown",
   "id": "e140867b",
   "metadata": {},
   "source": [
    "Look in [ML Zoomcamp 10.7 - Deploying TensorFlow Models to Kubernetes](https://www.youtube.com/watch?v=6vHLMdnjO2w&list=PL3MmuxUbc_hIhxl5Ji8t4O6lPAOpHaCLR&index=105) at 8:00 minute.\n",
    "\n",
    "`<Service name>` = `credit-card`, `<???>` = `credit-card`, `<PORT>` = 9696."
   ]
  },
  {
   "cell_type": "markdown",
   "id": "5d1a4f60",
   "metadata": {},
   "source": [
    "**Answer 7:** The value instead of `<???>` is `credit-card`."
   ]
  },
  {
   "cell_type": "code",
   "execution_count": null,
   "id": "5bb71b3e",
   "metadata": {},
   "outputs": [],
   "source": []
  }
 ],
 "metadata": {
  "kernelspec": {
   "display_name": "Python 3 (ipykernel)",
   "language": "python",
   "name": "python3"
  },
  "language_info": {
   "codemirror_mode": {
    "name": "ipython",
    "version": 3
   },
   "file_extension": ".py",
   "mimetype": "text/x-python",
   "name": "python",
   "nbconvert_exporter": "python",
   "pygments_lexer": "ipython3",
   "version": "3.9.8"
  }
 },
 "nbformat": 4,
 "nbformat_minor": 5
}
